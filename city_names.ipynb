{
 "cells": [
  {
   "cell_type": "markdown",
   "id": "b8836d40",
   "metadata": {},
   "source": [
    "# Parsing city names from a Wikipedia table"
   ]
  },
  {
   "cell_type": "markdown",
   "id": "e53d202b",
   "metadata": {},
   "source": [
    "## Scraping Wikipedia"
   ]
  },
  {
   "cell_type": "code",
   "execution_count": 1,
   "id": "7998414d",
   "metadata": {},
   "outputs": [],
   "source": [
    "import requests\n",
    "url = requests.get('https://de.wikipedia.org/wiki/Liste_der_Gro%C3%9F-_und_Mittelst%C3%A4dte_in_Deutschland').text"
   ]
  },
  {
   "cell_type": "code",
   "execution_count": 2,
   "id": "4aa93eec",
   "metadata": {},
   "outputs": [],
   "source": [
    "from bs4 import BeautifulSoup\n",
    "html_all = BeautifulSoup(url, 'html.parser')\n",
    "#print(html_all.prettify())"
   ]
  },
  {
   "cell_type": "code",
   "execution_count": 3,
   "id": "1ba57845",
   "metadata": {},
   "outputs": [],
   "source": [
    "html_cities = html_all.select('table',{'class': 'wikitable sortable zebra'})[1]\n",
    "#print(html_cities)"
   ]
  },
  {
   "cell_type": "markdown",
   "id": "915189be",
   "metadata": {},
   "source": [
    "## Data preparation"
   ]
  },
  {
   "cell_type": "code",
   "execution_count": 4,
   "id": "7c295aae",
   "metadata": {},
   "outputs": [
    {
     "data": {
      "text/html": [
       "<div>\n",
       "<style scoped>\n",
       "    .dataframe tbody tr th:only-of-type {\n",
       "        vertical-align: middle;\n",
       "    }\n",
       "\n",
       "    .dataframe tbody tr th {\n",
       "        vertical-align: top;\n",
       "    }\n",
       "\n",
       "    .dataframe thead th {\n",
       "        text-align: right;\n",
       "    }\n",
       "</style>\n",
       "<table border=\"1\" class=\"dataframe\">\n",
       "  <thead>\n",
       "    <tr style=\"text-align: right;\">\n",
       "      <th></th>\n",
       "      <th>rank</th>\n",
       "      <th>name</th>\n",
       "      <th>pop_2019</th>\n",
       "      <th>bundesland</th>\n",
       "    </tr>\n",
       "  </thead>\n",
       "  <tbody>\n",
       "    <tr>\n",
       "      <th>0</th>\n",
       "      <td>1.0</td>\n",
       "      <td>Berlin</td>\n",
       "      <td>3669491</td>\n",
       "      <td>Berlin</td>\n",
       "    </tr>\n",
       "    <tr>\n",
       "      <th>1</th>\n",
       "      <td>2.0</td>\n",
       "      <td>Hamburg</td>\n",
       "      <td>1847253</td>\n",
       "      <td>Hamburg</td>\n",
       "    </tr>\n",
       "    <tr>\n",
       "      <th>2</th>\n",
       "      <td>3.0</td>\n",
       "      <td>München</td>\n",
       "      <td>1484226</td>\n",
       "      <td>Bayern</td>\n",
       "    </tr>\n",
       "    <tr>\n",
       "      <th>3</th>\n",
       "      <td>4.0</td>\n",
       "      <td>Köln</td>\n",
       "      <td>1087863</td>\n",
       "      <td>Nordrhein-Westfalen</td>\n",
       "    </tr>\n",
       "    <tr>\n",
       "      <th>4</th>\n",
       "      <td>5.0</td>\n",
       "      <td>Frankfurt am Main</td>\n",
       "      <td>763380</td>\n",
       "      <td>Hessen</td>\n",
       "    </tr>\n",
       "    <tr>\n",
       "      <th>...</th>\n",
       "      <td>...</td>\n",
       "      <td>...</td>\n",
       "      <td>...</td>\n",
       "      <td>...</td>\n",
       "    </tr>\n",
       "    <tr>\n",
       "      <th>697</th>\n",
       "      <td>698.0</td>\n",
       "      <td>Bad Salzungen</td>\n",
       "      <td>20097</td>\n",
       "      <td>Thüringen</td>\n",
       "    </tr>\n",
       "    <tr>\n",
       "      <th>698</th>\n",
       "      <td>699.0</td>\n",
       "      <td>Wilnsdorf</td>\n",
       "      <td>20086</td>\n",
       "      <td>Nordrhein-Westfalen</td>\n",
       "    </tr>\n",
       "    <tr>\n",
       "      <th>699</th>\n",
       "      <td>700.0</td>\n",
       "      <td>Bad Schwartau</td>\n",
       "      <td>20044</td>\n",
       "      <td>Schleswig-Holstein</td>\n",
       "    </tr>\n",
       "    <tr>\n",
       "      <th>700</th>\n",
       "      <td>701.0</td>\n",
       "      <td>Oberkirch</td>\n",
       "      <td>20036</td>\n",
       "      <td>Baden-Württemberg</td>\n",
       "    </tr>\n",
       "    <tr>\n",
       "      <th>701</th>\n",
       "      <td>702.0</td>\n",
       "      <td>Gröbenzell</td>\n",
       "      <td>20029</td>\n",
       "      <td>Bayern</td>\n",
       "    </tr>\n",
       "  </tbody>\n",
       "</table>\n",
       "<p>702 rows × 4 columns</p>\n",
       "</div>"
      ],
      "text/plain": [
       "      rank               name  pop_2019           bundesland\n",
       "0      1.0             Berlin   3669491               Berlin\n",
       "1      2.0            Hamburg   1847253              Hamburg\n",
       "2      3.0            München   1484226               Bayern\n",
       "3      4.0               Köln   1087863  Nordrhein-Westfalen\n",
       "4      5.0  Frankfurt am Main    763380               Hessen\n",
       "..     ...                ...       ...                  ...\n",
       "697  698.0      Bad Salzungen     20097            Thüringen\n",
       "698  699.0          Wilnsdorf     20086  Nordrhein-Westfalen\n",
       "699  700.0      Bad Schwartau     20044   Schleswig-Holstein\n",
       "700  701.0          Oberkirch     20036    Baden-Württemberg\n",
       "701  702.0         Gröbenzell     20029               Bayern\n",
       "\n",
       "[702 rows x 4 columns]"
      ]
     },
     "execution_count": 4,
     "metadata": {},
     "output_type": "execute_result"
    }
   ],
   "source": [
    "import pandas as pd\n",
    "#pd.set_option('display.max_rows', None)\n",
    "\n",
    "cities = pd.read_html(str(html_cities))\n",
    "cities = pd.DataFrame(cities[0])\n",
    "\n",
    "cities = cities[['Rang', 'Name', '2019', 'Bundesland']]\n",
    "cities.columns = ['rank', 'name', 'pop_2019', 'bundesland']\n",
    "\n",
    "cities['pop_2019'] = cities['pop_2019'].str.replace('.', '', regex=True).astype('int64')\n",
    "\n",
    "cities['name'] = cities['name'].str.replace('\\d+', '', regex=True)\n",
    "cities['name'] = cities['name'].str.replace('[\"(*)\"]', '', regex=True)\n",
    "cities['name'] = cities['name'].str.replace('/', ' / ', regex=True)\n",
    "cities['name'] = cities['name'].str.replace('Porta ', 'Porta-', regex=True)\n",
    "cities['name'] = cities['name'].str.rstrip()\n",
    "\n",
    "cities"
   ]
  },
  {
   "cell_type": "markdown",
   "id": "00a7f730",
   "metadata": {},
   "source": [
    "## Looking for common suffixes\n",
    "### -ingen"
   ]
  },
  {
   "cell_type": "code",
   "execution_count": 5,
   "id": "f68c290d",
   "metadata": {},
   "outputs": [
    {
     "name": "stdout",
     "output_type": "stream",
     "text": [
      "Solingen\n",
      "Göttingen\n",
      "Reutlingen\n",
      "Esslingen\n",
      "Tübingen\n",
      "Ratingen\n",
      "Villingen-Schwenningen\n",
      "Sindelfingen\n",
      "Göppingen\n",
      "Waiblingen\n",
      "Hattingen\n",
      "Böblingen\n",
      "Memmingen\n",
      "Bietigheim-Bissingen\n",
      "Nürtingen\n",
      "Leinfelden-Echterdingen\n",
      "Völklingen\n",
      "Ettlingen\n",
      "Tuttlingen\n",
      "Balingen\n",
      "Vaihingen\n",
      "Geislingen\n",
      "Leichlingen\n",
      "Emmendingen\n",
      "Ehingen\n",
      "Ditzingen\n",
      "Meiningen\n",
      "Öhringen\n",
      "Überlingen\n",
      "Kissingen\n",
      "Büdingen\n",
      "Donaueschingen\n",
      "Metzingen\n",
      "Kitzingen\n",
      "Eppingen\n",
      "Schwetzingen\n",
      "Westoverledingen\n",
      "Eislingen\n",
      "Nördlingen\n",
      "Mössingen\n",
      "Krozingen\n"
     ]
    }
   ],
   "source": [
    "import collections\n",
    "from collections import Counter\n",
    "\n",
    "def count_ingen(string):\n",
    "    for word, v in collections.Counter(string.split()).items():\n",
    "        if word.endswith('ingen') and len(word)>6 and word != 'Thüringen':\n",
    "            print(word)\n",
    "            \n",
    "for city in cities['name']:\n",
    "    count_ingen(city)"
   ]
  },
  {
   "cell_type": "markdown",
   "id": "4fb939bf",
   "metadata": {},
   "source": [
    "### -dorf"
   ]
  },
  {
   "cell_type": "code",
   "execution_count": 6,
   "id": "e667184d",
   "metadata": {},
   "outputs": [
    {
     "name": "stdout",
     "output_type": "stream",
     "text": [
      "Düsseldorf\n",
      "Troisdorf\n",
      "Alsdorf\n",
      "Schorndorf\n",
      "Warendorf\n",
      "Mörfelden-Walldorf\n",
      "Deggendorf\n",
      "Burgdorf\n",
      "Schwandorf\n",
      "Hennigsdorf\n",
      "Neuendorf\n",
      "Zirndorf\n",
      "Friedrichsdorf\n",
      "Elsdorf\n",
      "Stadtallendorf\n",
      "Mühldorf\n",
      "Wilnsdorf\n"
     ]
    }
   ],
   "source": [
    "def count_dorf(string):\n",
    "    for word, v in collections.Counter(string.split()).items():\n",
    "        if word.endswith('dorf'):\n",
    "            print(word)\n",
    "            \n",
    "for city in cities['name']:\n",
    "    count_dorf(city)"
   ]
  },
  {
   "cell_type": "markdown",
   "id": "e341039c",
   "metadata": {},
   "source": [
    "### -au"
   ]
  },
  {
   "cell_type": "code",
   "execution_count": 7,
   "id": "f87313b7",
   "metadata": {},
   "outputs": [
    {
     "name": "stdout",
     "output_type": "stream",
     "text": [
      "Hanau\n",
      "Zwickau\n",
      "Dessau-Roßlau\n",
      "Passau\n",
      "Gronau\n",
      "Dachau\n",
      "Landau\n",
      "Rodgau\n",
      "Bernau\n",
      "Ilmenau\n",
      "Gaggenau\n",
      "Groß-Gerau\n",
      "Lindau\n",
      "Zittau\n",
      "Glauchau\n",
      "Rappenau\n",
      "Soltau\n",
      "Werdau\n",
      "Nidderau\n",
      "Schwartau\n"
     ]
    }
   ],
   "source": [
    "def count_au(string):\n",
    "    for word, v in collections.Counter(string.split()).items():\n",
    "        if word.endswith('au') and word != 'Breisgau' and word != 'Donau':\n",
    "            print(word)\n",
    "            \n",
    "for city in cities['name']:\n",
    "    count_au(city)"
   ]
  },
  {
   "cell_type": "markdown",
   "id": "3f7dcd19",
   "metadata": {},
   "source": [
    "### -bach"
   ]
  },
  {
   "cell_type": "code",
   "execution_count": 8,
   "id": "3d2e751c",
   "metadata": {},
   "outputs": [
    {
     "name": "stdout",
     "output_type": "stream",
     "text": [
      "Mönchengladbach\n",
      "Offenbach\n",
      "Gladbach\n",
      "Gummersbach\n",
      "Fellbach\n",
      "Ansbach\n",
      "Schwabach\n",
      "Dietzenbach\n",
      "Rheinbach\n",
      "Butzbach\n",
      "Kulmbach\n",
      "Mosbach\n",
      "Korbach\n",
      "Reichenbach\n"
     ]
    }
   ],
   "source": [
    "def count_bach(string):\n",
    "    for word, v in collections.Counter(string.split()).items():\n",
    "        if word.endswith('bach'):\n",
    "            print(word)\n",
    "            \n",
    "for city in cities['name']:\n",
    "    count_bach(city)"
   ]
  },
  {
   "cell_type": "markdown",
   "id": "9fbeca6e",
   "metadata": {},
   "source": [
    "### -ach"
   ]
  },
  {
   "cell_type": "code",
   "execution_count": 9,
   "id": "1954d5f0",
   "metadata": {},
   "outputs": [
    {
     "name": "stdout",
     "output_type": "stream",
     "text": [
      "Kreuznach\n",
      "Lörrach\n",
      "Eisenach\n",
      "Biberach\n",
      "Andernach\n",
      "Herzogenaurach\n",
      "Aichach\n"
     ]
    }
   ],
   "source": [
    "def count_ach(string):\n",
    "    for word, v in collections.Counter(string.split()).items():\n",
    "        if word.endswith('ach') and word[-4].endswith('b') == False:\n",
    "            print(word)\n",
    "            \n",
    "for city in cities['name']:\n",
    "    count_ach(city)"
   ]
  },
  {
   "cell_type": "markdown",
   "id": "993b21b8",
   "metadata": {},
   "source": [
    "### -feld"
   ]
  },
  {
   "cell_type": "code",
   "execution_count": 10,
   "id": "811897eb",
   "metadata": {},
   "outputs": [
    {
     "name": "stdout",
     "output_type": "stream",
     "text": [
      "Bielefeld\n",
      "Krefeld\n",
      "Langenfeld\n",
      "Coesfeld\n",
      "Hersfeld\n",
      "Saalfeld\n",
      "Karlsfeld\n"
     ]
    }
   ],
   "source": [
    "def count_feld(string):\n",
    "    for word, v in collections.Counter(string.split()).items():\n",
    "        if word.endswith('feld'):\n",
    "            print(word)\n",
    "            \n",
    "for city in cities['name']:\n",
    "    count_feld(city)"
   ]
  },
  {
   "cell_type": "markdown",
   "id": "cc461f2e",
   "metadata": {},
   "source": [
    "### -heim"
   ]
  },
  {
   "cell_type": "code",
   "execution_count": 11,
   "id": "4d95e4c6",
   "metadata": {},
   "outputs": [
    {
     "name": "stdout",
     "output_type": "stream",
     "text": [
      "Mannheim\n",
      "Mülheim\n",
      "Pforzheim\n",
      "Hildesheim\n",
      "Rüsselsheim\n",
      "Rosenheim\n",
      "Bergheim\n",
      "Pulheim\n",
      "Heidenheim\n",
      "Bornheim\n",
      "Weinheim\n",
      "Monheim\n",
      "Kirchheim\n",
      "Bensheim\n",
      "Hofheim\n",
      "Sinsheim\n",
      "Ingelheim\n",
      "Crailsheim\n",
      "Viernheim\n",
      "Kornwestheim\n",
      "Lampertheim\n",
      "Nauheim\n",
      "Forchheim\n",
      "Northeim\n",
      "Kelkheim\n",
      "Unterschleißheim\n",
      "Mühlheim\n",
      "Hattersheim\n",
      "Griesheim\n",
      "Heppenheim\n",
      "Meckenheim\n",
      "Mergentheim\n",
      "Wertheim\n",
      "Weilheim\n",
      "Laupheim\n",
      "Hockenheim\n",
      "Flörsheim\n",
      "Puchheim\n",
      "Germersheim\n"
     ]
    }
   ],
   "source": [
    "from collections import defaultdict, Counter\n",
    "def count_heim(string):\n",
    "    for word, v in collections.Counter(string.split()).items():\n",
    "        if word.endswith('heim'):\n",
    "            print(word)\n",
    "            \n",
    "for city in cities['name']:\n",
    "    count_heim(city)"
   ]
  },
  {
   "cell_type": "markdown",
   "id": "2d876584",
   "metadata": {},
   "source": [
    "### -hausen"
   ]
  },
  {
   "cell_type": "code",
   "execution_count": 12,
   "id": "cf8bcca5",
   "metadata": {},
   "outputs": [
    {
     "name": "stdout",
     "output_type": "stream",
     "text": [
      "Oberhausen\n",
      "Recklinghausen\n",
      "Oeynhausen\n",
      "Nordhausen\n",
      "Wusterhausen\n",
      "Mühlhausen\n",
      "Barsinghausen\n",
      "Sangerhausen\n",
      "Obertshausen\n",
      "Lüdinghausen\n",
      "Gelnhausen\n",
      "Sondershausen\n",
      "Wildeshausen\n"
     ]
    }
   ],
   "source": [
    "def count_hausen(string):\n",
    "    for word, v in collections.Counter(string.split()).items():\n",
    "        if word.endswith('hausen'):\n",
    "            print(word)\n",
    "            \n",
    "for city in cities['name']:\n",
    "    count_hausen(city)"
   ]
  },
  {
   "cell_type": "markdown",
   "id": "03db1d63",
   "metadata": {},
   "source": [
    "### -stadt"
   ]
  },
  {
   "cell_type": "code",
   "execution_count": 13,
   "id": "742dee09",
   "metadata": {},
   "outputs": [
    {
     "name": "stdout",
     "output_type": "stream",
     "text": [
      "Darmstadt\n",
      "Ingolstadt\n",
      "Lippstadt\n",
      "Neustadt\n",
      "Erftstadt\n",
      "Filderstadt\n",
      "Albstadt\n",
      "Neustadt\n",
      "Halberstadt\n",
      "Arnstadt\n",
      "Weinstadt\n",
      "Weiterstadt\n",
      "Lennestadt\n",
      "Pfungstadt\n",
      "Rudolstadt\n",
      "Eisenhüttenstadt\n",
      "Riedstadt\n",
      "Freudenstadt\n",
      "Seligenstadt\n",
      "Groß-Umstadt\n",
      "Schifferstadt\n",
      "Duderstadt\n"
     ]
    }
   ],
   "source": [
    "def count_stadt(string):\n",
    "    for word, v in collections.Counter(string.split()).items():\n",
    "        if word.endswith('stadt') and word != 'Lutherstadt':\n",
    "            print(word)\n",
    "            \n",
    "for city in cities['name']:\n",
    "    count_stadt(city)"
   ]
  },
  {
   "cell_type": "markdown",
   "id": "80b3aaad",
   "metadata": {},
   "source": [
    "### -furt"
   ]
  },
  {
   "cell_type": "code",
   "execution_count": 14,
   "id": "9cc98da8",
   "metadata": {},
   "outputs": [
    {
     "name": "stdout",
     "output_type": "stream",
     "text": [
      "Frankfurt\n",
      "Erfurt\n",
      "Frankfurt\n",
      "Schweinfurt\n",
      "Steinfurt\n",
      "Staßfurt\n"
     ]
    }
   ],
   "source": [
    "def count_furt(string):\n",
    "    for word, v in collections.Counter(string.split()).items():\n",
    "        if word.endswith('furt'):\n",
    "            print(word)\n",
    "            \n",
    "for city in cities['name']:\n",
    "    count_furt(city)"
   ]
  },
  {
   "cell_type": "markdown",
   "id": "b717955d",
   "metadata": {},
   "source": [
    "### -berg"
   ]
  },
  {
   "cell_type": "code",
   "execution_count": 15,
   "id": "ddba5814",
   "metadata": {},
   "outputs": [
    {
     "name": "stdout",
     "output_type": "stream",
     "text": [
      "Nürnberg\n",
      "Heidelberg\n",
      "Bamberg\n",
      "Arnsberg\n",
      "Stolberg\n",
      "Leonberg\n",
      "Wittenberg\n",
      "Pinneberg\n",
      "Heinsberg\n",
      "Amberg\n",
      "Freiberg\n",
      "Herrenberg\n",
      "Rheinberg\n",
      "Gevelsberg\n",
      "Friedberg\n",
      "Rietberg\n",
      "Friedberg\n",
      "Landsberg\n",
      "Wegberg\n",
      "Strausberg\n",
      "Plettenberg\n",
      "Schmallenberg\n",
      "Markkleeberg\n",
      "Ronnenberg\n",
      "Übach-Palenberg\n",
      "Senftenberg\n",
      "Sonneberg\n",
      "Starnberg\n",
      "Spremberg\n",
      "Schramberg\n",
      "Fröndenberg\n",
      "Wachtberg\n"
     ]
    }
   ],
   "source": [
    "def count_berg(string):\n",
    "    for word, v in collections.Counter(string.split()).items():\n",
    "        if word.endswith('berg'):\n",
    "            print(word)\n",
    "            \n",
    "for city in cities['name']:\n",
    "    count_berg(city)"
   ]
  },
  {
   "cell_type": "markdown",
   "id": "0e53cdb9",
   "metadata": {},
   "source": [
    "### -burg"
   ]
  },
  {
   "cell_type": "code",
   "execution_count": 16,
   "id": "901ea2d4",
   "metadata": {},
   "outputs": [
    {
     "name": "stdout",
     "output_type": "stream",
     "text": [
      "Hamburg\n",
      "Duisburg\n",
      "Augsburg\n",
      "Magdeburg\n",
      "Freiburg\n",
      "Oldenburg\n",
      "Regensburg\n",
      "Würzburg\n",
      "Wolfsburg\n",
      "Ludwigsburg\n",
      "Flensburg\n",
      "Marburg\n",
      "Lüneburg\n",
      "Brandenburg\n",
      "Aschaffenburg\n",
      "Neubrandenburg\n",
      "Offenburg\n",
      "Homburg\n",
      "Ravensburg\n",
      "Oranienburg\n",
      "Rottenburg\n",
      "Homburg\n",
      "Siegburg\n",
      "Coburg\n",
      "Neu-Isenburg\n",
      "Papenburg\n",
      "Limburg\n",
      "Cloppenburg\n",
      "Merseburg\n",
      "Ahrensburg\n",
      "Bernburg\n",
      "Naumburg\n",
      "Altenburg\n",
      "Nienburg\n",
      "Neuburg\n",
      "Rendsburg\n",
      "Henstedt-Ulzburg\n",
      "Oldenburg\n",
      "Quedlinburg\n",
      "Bedburg\n",
      "Waldkraiburg\n",
      "Dillenburg\n",
      "Warburg\n",
      "Rotenburg\n",
      "Harzburg\n",
      "Günzburg\n"
     ]
    }
   ],
   "source": [
    "def count_burg(string):\n",
    "    for word, v in collections.Counter(string.split()).items():\n",
    "        if word.endswith('burg'):\n",
    "            print(word)\n",
    "            \n",
    "for city in cities['name']:\n",
    "    count_burg(city)"
   ]
  },
  {
   "cell_type": "markdown",
   "id": "d1986780",
   "metadata": {},
   "source": [
    "### -a"
   ]
  },
  {
   "cell_type": "code",
   "execution_count": 17,
   "id": "344b7300",
   "metadata": {},
   "outputs": [
    {
     "name": "stdout",
     "output_type": "stream",
     "text": [
      "Jena\n",
      "Gera\n",
      "Fulda\n",
      "Unna\n",
      "Gotha\n",
      "Pirna\n",
      "Porta-Westfalica\n",
      "Vechta\n",
      "Hoyerswerda\n",
      "Riesa\n",
      "Grimma\n",
      "Limbach-Oberfrohna\n",
      "Apolda\n",
      "Schlema\n"
     ]
    }
   ],
   "source": [
    "def count_a(string):\n",
    "    for word, v in collections.Counter(string.split()).items():\n",
    "        if word.endswith('a'):\n",
    "            print(word)\n",
    "            \n",
    "for city in cities['name']:\n",
    "    count_a(city)"
   ]
  }
 ],
 "metadata": {
  "kernelspec": {
   "display_name": "Python 3",
   "language": "python",
   "name": "python3"
  },
  "language_info": {
   "codemirror_mode": {
    "name": "ipython",
    "version": 3
   },
   "file_extension": ".py",
   "mimetype": "text/x-python",
   "name": "python",
   "nbconvert_exporter": "python",
   "pygments_lexer": "ipython3",
   "version": "3.9.4"
  }
 },
 "nbformat": 4,
 "nbformat_minor": 5
}
